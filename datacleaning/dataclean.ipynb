{
 "cells": [
  {
   "cell_type": "markdown",
   "metadata": {},
   "source": [
    "This notebook does all the cleaning and pre processing of the dataset to make it ready for training"
   ]
  },
  {
   "cell_type": "code",
   "execution_count": 1,
   "metadata": {},
   "outputs": [],
   "source": [
    "import pandas as pd\n",
    "import numpy as np\n",
    "from sklearn.preprocessing import LabelEncoder\n",
    "import matplotlib.pyplot as plt\n",
    "from nltk.sentiment.vader import SentimentIntensityAnalyzer"
   ]
  },
  {
   "cell_type": "code",
   "execution_count": 2,
   "metadata": {},
   "outputs": [
    {
     "data": {
      "text/html": [
       "<div>\n",
       "<style scoped>\n",
       "    .dataframe tbody tr th:only-of-type {\n",
       "        vertical-align: middle;\n",
       "    }\n",
       "\n",
       "    .dataframe tbody tr th {\n",
       "        vertical-align: top;\n",
       "    }\n",
       "\n",
       "    .dataframe thead th {\n",
       "        text-align: right;\n",
       "    }\n",
       "</style>\n",
       "<table border=\"1\" class=\"dataframe\">\n",
       "  <thead>\n",
       "    <tr style=\"text-align: right;\">\n",
       "      <th></th>\n",
       "      <th>reviewerID</th>\n",
       "      <th>asin</th>\n",
       "      <th>reviewerName</th>\n",
       "      <th>verified</th>\n",
       "      <th>reviewText</th>\n",
       "      <th>overall</th>\n",
       "      <th>reviewTime</th>\n",
       "      <th>summary</th>\n",
       "      <th>unixReviewTime</th>\n",
       "      <th>style</th>\n",
       "      <th>vote</th>\n",
       "      <th>image</th>\n",
       "    </tr>\n",
       "  </thead>\n",
       "  <tbody>\n",
       "    <tr>\n",
       "      <th>0</th>\n",
       "      <td>A1H1DL4K669VQ9</td>\n",
       "      <td>0001393774</td>\n",
       "      <td>Judith Paladino</td>\n",
       "      <td>True</td>\n",
       "      <td>Love it!!  Great seller!</td>\n",
       "      <td>5</td>\n",
       "      <td>04 29, 2016</td>\n",
       "      <td>Five Stars</td>\n",
       "      <td>1461888000</td>\n",
       "      <td>NaN</td>\n",
       "      <td>NaN</td>\n",
       "      <td>NaN</td>\n",
       "    </tr>\n",
       "    <tr>\n",
       "      <th>1</th>\n",
       "      <td>A3V5XBBT7OZG5G</td>\n",
       "      <td>0001393774</td>\n",
       "      <td>gflady</td>\n",
       "      <td>True</td>\n",
       "      <td>One of my very favourite albums from one of my...</td>\n",
       "      <td>5</td>\n",
       "      <td>02 23, 2016</td>\n",
       "      <td>One of my very favourite albums from one of my...</td>\n",
       "      <td>1456185600</td>\n",
       "      <td>NaN</td>\n",
       "      <td>NaN</td>\n",
       "      <td>NaN</td>\n",
       "    </tr>\n",
       "    <tr>\n",
       "      <th>2</th>\n",
       "      <td>A3SNL7UJY7GWBI</td>\n",
       "      <td>0001393774</td>\n",
       "      <td>Lady Leatherneck</td>\n",
       "      <td>True</td>\n",
       "      <td>THank you Jesus Lord God, that brother Green's...</td>\n",
       "      <td>5</td>\n",
       "      <td>02 11, 2016</td>\n",
       "      <td>Five Stars</td>\n",
       "      <td>1455148800</td>\n",
       "      <td>NaN</td>\n",
       "      <td>NaN</td>\n",
       "      <td>NaN</td>\n",
       "    </tr>\n",
       "    <tr>\n",
       "      <th>3</th>\n",
       "      <td>A3478QRKQDOPQ2</td>\n",
       "      <td>0001393774</td>\n",
       "      <td>jacki</td>\n",
       "      <td>True</td>\n",
       "      <td>I recall loving his other albums and maybe thi...</td>\n",
       "      <td>5</td>\n",
       "      <td>11 28, 2015</td>\n",
       "      <td>forgot but I figured on some of these artists ...</td>\n",
       "      <td>1448668800</td>\n",
       "      <td>NaN</td>\n",
       "      <td>NaN</td>\n",
       "      <td>NaN</td>\n",
       "    </tr>\n",
       "    <tr>\n",
       "      <th>4</th>\n",
       "      <td>A23M5VTSN2C3H1</td>\n",
       "      <td>0001393774</td>\n",
       "      <td>Caliope</td>\n",
       "      <td>True</td>\n",
       "      <td>Keith Green was a pioneer in the field of Chri...</td>\n",
       "      <td>5</td>\n",
       "      <td>12 16, 2014</td>\n",
       "      <td>and I have loved every album he did</td>\n",
       "      <td>1418688000</td>\n",
       "      <td>NaN</td>\n",
       "      <td>NaN</td>\n",
       "      <td>NaN</td>\n",
       "    </tr>\n",
       "  </tbody>\n",
       "</table>\n",
       "</div>"
      ],
      "text/plain": [
       "       reviewerID        asin      reviewerName  verified  \\\n",
       "0  A1H1DL4K669VQ9  0001393774   Judith Paladino      True   \n",
       "1  A3V5XBBT7OZG5G  0001393774            gflady      True   \n",
       "2  A3SNL7UJY7GWBI  0001393774  Lady Leatherneck      True   \n",
       "3  A3478QRKQDOPQ2  0001393774             jacki      True   \n",
       "4  A23M5VTSN2C3H1  0001393774           Caliope      True   \n",
       "\n",
       "                                          reviewText  overall   reviewTime  \\\n",
       "0                           Love it!!  Great seller!        5  04 29, 2016   \n",
       "1  One of my very favourite albums from one of my...        5  02 23, 2016   \n",
       "2  THank you Jesus Lord God, that brother Green's...        5  02 11, 2016   \n",
       "3  I recall loving his other albums and maybe thi...        5  11 28, 2015   \n",
       "4  Keith Green was a pioneer in the field of Chri...        5  12 16, 2014   \n",
       "\n",
       "                                             summary  unixReviewTime style  \\\n",
       "0                                         Five Stars      1461888000   NaN   \n",
       "1  One of my very favourite albums from one of my...      1456185600   NaN   \n",
       "2                                         Five Stars      1455148800   NaN   \n",
       "3  forgot but I figured on some of these artists ...      1448668800   NaN   \n",
       "4                and I have loved every album he did      1418688000   NaN   \n",
       "\n",
       "  vote image  \n",
       "0  NaN   NaN  \n",
       "1  NaN   NaN  \n",
       "2  NaN   NaN  \n",
       "3  NaN   NaN  \n",
       "4  NaN   NaN  "
      ]
     },
     "execution_count": 2,
     "metadata": {},
     "output_type": "execute_result"
    }
   ],
   "source": [
    "chunksize = 200000\n",
    "chunks = []\n",
    "\n",
    "# Iterating over chunks\n",
    "for chunk in pd.read_json('../dataset/dataset.json', lines=True, chunksize=chunksize):\n",
    "    chunks.append(chunk)\n",
    "\n",
    "df = pd.concat(chunks, ignore_index=True)\n",
    "\n",
    "df.head()"
   ]
  },
  {
   "cell_type": "code",
   "execution_count": 5,
   "metadata": {},
   "outputs": [
    {
     "name": "stdout",
     "output_type": "stream",
     "text": [
      "Columns: \n",
      "Index(['reviewerID', 'asin', 'reviewerName', 'verified', 'reviewText',\n",
      "       'overall', 'reviewTime', 'summary', 'unixReviewTime', 'style', 'vote',\n",
      "       'image'],\n",
      "      dtype='object')\n",
      "\n",
      "\n",
      "Class counts: \n",
      "overall\n",
      "5    968755\n",
      "4    274731\n",
      "3    110407\n",
      "2     46367\n",
      "1     43495\n",
      "Name: count, dtype: int64\n"
     ]
    }
   ],
   "source": [
    "print(f\"Columns: \\n{df.columns}\")\n",
    "print(\"\\n\")\n",
    "print(f\"Class counts: \\n{df.overall.value_counts()}\")"
   ]
  },
  {
   "cell_type": "code",
   "execution_count": 6,
   "metadata": {},
   "outputs": [],
   "source": [
    "# defining functions here\n",
    "def clean_data(df):\n",
    "    df.drop(columns=['reviewerName', 'verified', 'reviewTime', 'summary', 'unixReviewTime', 'style', 'vote', 'image'], inplace=True)\n",
    "    df.dropna(subset=['reviewText'], inplace=True)\n",
    "    \n",
    "def preprocess(data):\n",
    "    label_encoder = LabelEncoder()\n",
    "    data.loc[:, 'reviewerID'] = label_encoder.fit_transform(data['reviewerID'])\n",
    "    data.loc[:, 'asin'] = label_encoder.fit_transform(data['asin'])"
   ]
  },
  {
   "cell_type": "code",
   "execution_count": 7,
   "metadata": {},
   "outputs": [
    {
     "name": "stdout",
     "output_type": "stream",
     "text": [
      "reviewerID    0\n",
      "asin          0\n",
      "reviewText    0\n",
      "overall       0\n",
      "dtype: int64\n"
     ]
    },
    {
     "data": {
      "text/html": [
       "<div>\n",
       "<style scoped>\n",
       "    .dataframe tbody tr th:only-of-type {\n",
       "        vertical-align: middle;\n",
       "    }\n",
       "\n",
       "    .dataframe tbody tr th {\n",
       "        vertical-align: top;\n",
       "    }\n",
       "\n",
       "    .dataframe thead th {\n",
       "        text-align: right;\n",
       "    }\n",
       "</style>\n",
       "<table border=\"1\" class=\"dataframe\">\n",
       "  <thead>\n",
       "    <tr style=\"text-align: right;\">\n",
       "      <th></th>\n",
       "      <th>reviewerID</th>\n",
       "      <th>asin</th>\n",
       "      <th>reviewText</th>\n",
       "      <th>overall</th>\n",
       "    </tr>\n",
       "  </thead>\n",
       "  <tbody>\n",
       "    <tr>\n",
       "      <th>0</th>\n",
       "      <td>14054</td>\n",
       "      <td>0</td>\n",
       "      <td>Love it!!  Great seller!</td>\n",
       "      <td>5</td>\n",
       "    </tr>\n",
       "    <tr>\n",
       "      <th>1</th>\n",
       "      <td>85186</td>\n",
       "      <td>0</td>\n",
       "      <td>One of my very favourite albums from one of my...</td>\n",
       "      <td>5</td>\n",
       "    </tr>\n",
       "    <tr>\n",
       "      <th>2</th>\n",
       "      <td>83064</td>\n",
       "      <td>0</td>\n",
       "      <td>THank you Jesus Lord God, that brother Green's...</td>\n",
       "      <td>5</td>\n",
       "    </tr>\n",
       "    <tr>\n",
       "      <th>3</th>\n",
       "      <td>62917</td>\n",
       "      <td>0</td>\n",
       "      <td>I recall loving his other albums and maybe thi...</td>\n",
       "      <td>5</td>\n",
       "    </tr>\n",
       "    <tr>\n",
       "      <th>4</th>\n",
       "      <td>32788</td>\n",
       "      <td>0</td>\n",
       "      <td>Keith Green was a pioneer in the field of Chri...</td>\n",
       "      <td>5</td>\n",
       "    </tr>\n",
       "  </tbody>\n",
       "</table>\n",
       "</div>"
      ],
      "text/plain": [
       "  reviewerID asin                                         reviewText  overall\n",
       "0      14054    0                           Love it!!  Great seller!        5\n",
       "1      85186    0  One of my very favourite albums from one of my...        5\n",
       "2      83064    0  THank you Jesus Lord God, that brother Green's...        5\n",
       "3      62917    0  I recall loving his other albums and maybe thi...        5\n",
       "4      32788    0  Keith Green was a pioneer in the field of Chri...        5"
      ]
     },
     "execution_count": 7,
     "metadata": {},
     "output_type": "execute_result"
    }
   ],
   "source": [
    "clean_data(df)\n",
    "print(df.isna().sum())\n",
    "preprocess(df)\n",
    "df.head()"
   ]
  },
  {
   "cell_type": "code",
   "execution_count": null,
   "metadata": {},
   "outputs": [
    {
     "ename": "KeyboardInterrupt",
     "evalue": "",
     "output_type": "error",
     "traceback": [
      "\u001b[0;31m---------------------------------------------------------------------------\u001b[0m",
      "\u001b[0;31mKeyboardInterrupt\u001b[0m                         Traceback (most recent call last)",
      "Cell \u001b[0;32mIn[12], line 1\u001b[0m\n\u001b[0;32m----> 1\u001b[0m polarity \u001b[38;5;241m=\u001b[39m [\u001b[38;5;28mround\u001b[39m(\u001b[43mso_score\u001b[49m\u001b[38;5;241;43m.\u001b[39;49m\u001b[43mpolarity_scores\u001b[49m\u001b[43m(\u001b[49m\u001b[43mi\u001b[49m\u001b[43m)\u001b[49m[\u001b[38;5;124m'\u001b[39m\u001b[38;5;124mcompound\u001b[39m\u001b[38;5;124m'\u001b[39m], \u001b[38;5;241m2\u001b[39m) \u001b[38;5;28;01mfor\u001b[39;00m i \u001b[38;5;129;01min\u001b[39;00m df[\u001b[38;5;124m'\u001b[39m\u001b[38;5;124mreviewText\u001b[39m\u001b[38;5;124m'\u001b[39m]]\n\u001b[1;32m      2\u001b[0m df[\u001b[38;5;124m'\u001b[39m\u001b[38;5;124mso_score\u001b[39m\u001b[38;5;124m'\u001b[39m] \u001b[38;5;241m=\u001b[39m polarity\n",
      "File \u001b[0;32m~/.pyenv/versions/3.12.7/envs/dsfinal/lib/python3.12/site-packages/nltk/sentiment/vader.py:373\u001b[0m, in \u001b[0;36mSentimentIntensityAnalyzer.polarity_scores\u001b[0;34m(self, text)\u001b[0m\n\u001b[1;32m    371\u001b[0m \u001b[38;5;28;01mfor\u001b[39;00m item \u001b[38;5;129;01min\u001b[39;00m words_and_emoticons:\n\u001b[1;32m    372\u001b[0m     valence \u001b[38;5;241m=\u001b[39m \u001b[38;5;241m0\u001b[39m\n\u001b[0;32m--> 373\u001b[0m     i \u001b[38;5;241m=\u001b[39m \u001b[43mwords_and_emoticons\u001b[49m\u001b[38;5;241;43m.\u001b[39;49m\u001b[43mindex\u001b[49m\u001b[43m(\u001b[49m\u001b[43mitem\u001b[49m\u001b[43m)\u001b[49m\n\u001b[1;32m    374\u001b[0m     \u001b[38;5;28;01mif\u001b[39;00m (\n\u001b[1;32m    375\u001b[0m         i \u001b[38;5;241m<\u001b[39m \u001b[38;5;28mlen\u001b[39m(words_and_emoticons) \u001b[38;5;241m-\u001b[39m \u001b[38;5;241m1\u001b[39m\n\u001b[1;32m    376\u001b[0m         \u001b[38;5;129;01mand\u001b[39;00m item\u001b[38;5;241m.\u001b[39mlower() \u001b[38;5;241m==\u001b[39m \u001b[38;5;124m\"\u001b[39m\u001b[38;5;124mkind\u001b[39m\u001b[38;5;124m\"\u001b[39m\n\u001b[1;32m    377\u001b[0m         \u001b[38;5;129;01mand\u001b[39;00m words_and_emoticons[i \u001b[38;5;241m+\u001b[39m \u001b[38;5;241m1\u001b[39m]\u001b[38;5;241m.\u001b[39mlower() \u001b[38;5;241m==\u001b[39m \u001b[38;5;124m\"\u001b[39m\u001b[38;5;124mof\u001b[39m\u001b[38;5;124m\"\u001b[39m\n\u001b[1;32m    378\u001b[0m     ) \u001b[38;5;129;01mor\u001b[39;00m item\u001b[38;5;241m.\u001b[39mlower() \u001b[38;5;129;01min\u001b[39;00m \u001b[38;5;28mself\u001b[39m\u001b[38;5;241m.\u001b[39mconstants\u001b[38;5;241m.\u001b[39mBOOSTER_DICT:\n\u001b[1;32m    379\u001b[0m         sentiments\u001b[38;5;241m.\u001b[39mappend(valence)\n",
      "\u001b[0;31mKeyboardInterrupt\u001b[0m: "
     ]
    }
   ],
   "source": [
    "so_score = SentimentIntensityAnalyzer()\n",
    "polarity = [round(so_score.polarity_scores(i)['compound'], 2) for i in df['reviewText']]\n",
    "df['so_score'] = polarity\n",
    "df.head()"
   ]
  },
  {
   "cell_type": "code",
   "execution_count": 4,
   "metadata": {},
   "outputs": [],
   "source": [
    "# dropping users with less than 5 reviews\n",
    "df = df.groupby('reviewerID').filter(lambda x: len(x) >= 5)"
   ]
  },
  {
   "cell_type": "code",
   "execution_count": 22,
   "metadata": {},
   "outputs": [],
   "source": [
    "df.drop(columns=['reviewText'], inplace=True)"
   ]
  },
  {
   "cell_type": "code",
   "execution_count": 6,
   "metadata": {},
   "outputs": [],
   "source": [
    "# saving dataset \n",
    "df.to_csv('../dataset/dataset.csv', index=False)"
   ]
  }
 ],
 "metadata": {
  "kernelspec": {
   "display_name": "cs439-final",
   "language": "python",
   "name": "python3"
  },
  "language_info": {
   "codemirror_mode": {
    "name": "ipython",
    "version": 3
   },
   "file_extension": ".py",
   "mimetype": "text/x-python",
   "name": "python",
   "nbconvert_exporter": "python",
   "pygments_lexer": "ipython3",
   "version": "3.12.6"
  }
 },
 "nbformat": 4,
 "nbformat_minor": 2
}
